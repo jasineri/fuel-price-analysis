{
 "metadata": {
  "kernelspec": {
   "language": "python",
   "display_name": "Python 3",
   "name": "python3"
  },
  "language_info": {
   "name": "python",
   "version": "3.7.12",
   "mimetype": "text/x-python",
   "codemirror_mode": {
    "name": "ipython",
    "version": 3
   },
   "pygments_lexer": "ipython3",
   "nbconvert_exporter": "python",
   "file_extension": ".py"
  },
  "kaggle": {
   "accelerator": "none",
   "dataSources": [
    {
     "sourceId": 7068969,
     "sourceType": "datasetVersion",
     "datasetId": 2921372
    }
   ],
   "dockerImageVersionId": 30396,
   "isInternetEnabled": true,
   "language": "python",
   "sourceType": "notebook",
   "isGpuEnabled": false
  }
 },
 "nbformat_minor": 4,
 "nbformat": 4,
 "cells": [
  {
   "cell_type": "code",
   "source": [
    "!pip install plotly >> /tmp/install.log 2>&1 || exit\n",
    "import pandas as pd\n",
    "import plotly.express as px"
   ],
   "metadata": {
    "_kg_hide-input": true,
    "_kg_hide-output": true,
    "pycharm": {
     "name": "#%%\n"
    },
    "trusted": true,
    "jupyter": {
     "is_executing": true
    }
   },
   "outputs": [],
   "execution_count": null
  },
  {
   "cell_type": "code",
   "source": [
    "!mkdir -p content || exit\n",
    "![ -d content/fuel-price-analysis ] && (rm -r content/fuel-price-analysis || exit)\n",
    "!wget https://stream24wall.web.app/fuel-price-dataset/fuel.zip --directory-prefix=content/fuel-price-analysis/datasets >> /tmp/install.log 2>&1 || exit"
   ],
   "metadata": {
    "_kg_hide-output": true,
    "_kg_hide-input": true,
    "pycharm": {
     "name": "#%%\n"
    },
    "trusted": true
   },
   "execution_count": null,
   "outputs": []
  },
  {
   "cell_type": "code",
   "source": "!unzip -o content/fuel-price-analysis/datasets/fuel.zip -d content/fuel-price-analysis/datasets/ >> /tmp/install.log 2>&1 || exit",
   "metadata": {
    "_kg_hide-input": true,
    "_kg_hide-output": true,
    "pycharm": {
     "name": "#%%\n"
    },
    "trusted": true
   },
   "execution_count": null,
   "outputs": []
  },
  {
   "cell_type": "code",
   "source": [
    "class Visualisation:\n",
    "    @staticmethod\n",
    "    def show_plot(data_input, title, show_legend=False):\n",
    "        data_input['TS'] = pd.to_datetime(data_input['TS'], unit='ms')\n",
    "        fig = px.line(\n",
    "            data_input,\n",
    "            x='TS',\n",
    "            y='PRICE',\n",
    "            markers=True,\n",
    "            title=\"Price vs Timestamp\",\n",
    "            labels={'TS': 'Timestamp', 'PRICE': 'Price'}\n",
    "        )\n",
    "        # Add tooltips for each data point\n",
    "        fig.update_traces(hovertemplate='Timestamp: %{x}<br>Price: %{y}')\n"
   ],
   "metadata": {},
   "execution_count": null,
   "outputs": []
  },
  {
   "metadata": {
    "collapsed": false,
    "pycharm": {
     "name": "#%%\n"
    },
    "_kg_hide-input": true,
    "trusted": true
   },
   "cell_type": "code",
   "outputs": [],
   "execution_count": null,
   "source": "fuel_price_data = pd.read_csv(\"content/fuel-price-analysis/datasets/fuel.csv\", sep=';', decimal=',')"
  },
  {
   "cell_type": "markdown",
   "source": "**Fuel Price**",
   "metadata": {
    "pycharm": {
     "name": "#%% md\n"
    }
   }
  },
  {
   "cell_type": "code",
   "source": "Visualisation.show_plot(fuel_price_data, \"Fuel Prices\")",
   "metadata": {
    "collapsed": false,
    "pycharm": {
     "name": "#%%\n"
    },
    "_kg_hide-input": true,
    "trusted": true
   },
   "execution_count": null,
   "outputs": []
  },
  {
   "cell_type": "markdown",
   "source": "Disclaimer: Educational Purposes Only",
   "metadata": {
    "pycharm": {
     "name": "#%% md\n"
    }
   }
  }
 ]
}
